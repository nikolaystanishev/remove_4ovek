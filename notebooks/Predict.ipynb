{
 "cells": [
  {
   "cell_type": "code",
   "execution_count": null,
   "metadata": {},
   "outputs": [],
   "source": [
    "import json\n",
    "import skvideo.io\n",
    "import scipy.misc\n",
    "import numpy as np\n",
    "\n",
    "import sys\n",
    "sys.path.append('../')\n",
    "\n",
    "from aovek.network.network import YOLO\n",
    "from aovek.utils.image_processing import ImageProcessing\n",
    "from aovek.visualization.predict import Predict"
   ]
  },
  {
   "cell_type": "code",
   "execution_count": null,
   "metadata": {},
   "outputs": [],
   "source": [
    "with open('../config.json') as config_file:\n",
    "    config = json.load(config_file)"
   ]
  },
  {
   "cell_type": "code",
   "execution_count": null,
   "metadata": {
    "scrolled": true
   },
   "outputs": [],
   "source": [
    "predict = Predict(config)"
   ]
  },
  {
   "cell_type": "code",
   "execution_count": null,
   "metadata": {
    "scrolled": false
   },
   "outputs": [],
   "source": [
    "# Predict Image\n",
    "image_path = 'path/to/image'\n",
    "predict.predict_all_boxes(image_path)\n",
    "predict.predict(image_path)\n",
    "\n",
    "# Predict Video Frame By Frame\n",
    "video_path = 'path/to/video'\n",
    "video = skvideo.io.vread(video_path)\n",
    "for frame in video:\n",
    "    scipy.misc.imsave('temp.jpg', frame)\n",
    "    image_path = 'temp.jpg'\n",
    "    predict.predict(image_path)"
   ]
  },
  {
   "cell_type": "code",
   "execution_count": null,
   "metadata": {},
   "outputs": [],
   "source": []
  }
 ],
 "metadata": {
  "kernelspec": {
   "display_name": "Python 3",
   "language": "python",
   "name": "python3"
  },
  "language_info": {
   "codemirror_mode": {
    "name": "ipython",
    "version": 3
   },
   "file_extension": ".py",
   "mimetype": "text/x-python",
   "name": "python",
   "nbconvert_exporter": "python",
   "pygments_lexer": "ipython3",
   "version": "3.6.3"
  }
 },
 "nbformat": 4,
 "nbformat_minor": 2
}
