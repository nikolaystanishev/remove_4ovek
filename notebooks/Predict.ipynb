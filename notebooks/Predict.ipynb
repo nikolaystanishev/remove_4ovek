{
 "cells": [
  {
   "cell_type": "code",
   "execution_count": null,
   "metadata": {},
   "outputs": [],
   "source": [
    "import numpy as np\n",
    "import tensorflow as tf\n",
    "import matplotlib.pyplot as plt\n",
    "from matplotlib.patches import Rectangle\n",
    "from skimage.transform import resize\n",
    "from scipy import ndimage\n",
    "import json\n",
    "\n",
    "import sys\n",
    "sys.path.append('../aovek')\n",
    "\n",
    "from aovek.network.network import YOLO"
   ]
  },
  {
   "cell_type": "code",
   "execution_count": null,
   "metadata": {},
   "outputs": [],
   "source": [
    "def get_image_from_file(image_file):\n",
    "    image_data = ndimage.imread(image_file).astype(float)\n",
    "\n",
    "    if len(image_data.shape) != 3:\n",
    "        image_data = np.repeat(image_data[:, :, np.newaxis],\n",
    "                               3, axis=2)\n",
    "\n",
    "    if image_data.shape != (288, 288, 3):\n",
    "        image = resize(image_data,\n",
    "                       output_shape=(288, 288),\n",
    "                       mode='constant')\n",
    "    else:\n",
    "        image = image_data\n",
    "\n",
    "    image = np.expand_dims(image, axis=0)\n",
    "\n",
    "    image = normalize_image_from_0_to_1(image)\n",
    "\n",
    "    return image\n",
    "    \n",
    "\n",
    "def normalize_image_from_0_to_1(image):\n",
    "    normalized_image = image / 255\n",
    "\n",
    "    return normalized_image"
   ]
  },
  {
   "cell_type": "code",
   "execution_count": null,
   "metadata": {},
   "outputs": [],
   "source": [
    "def draw_rectangles(image, lables, prob):\n",
    "    fig, ax = plt.subplots(1)\n",
    "    ax.imshow(image)\n",
    "\n",
    "    for label in lables:\n",
    "        if prob:\n",
    "            print(label[4])\n",
    "        \n",
    "        x = label[0] * 288\n",
    "        y = label[1] * 288\n",
    "        w = (label[2] - label[0]) * 288\n",
    "        h = (label[3] - label[1]) * 288\n",
    "\n",
    "        rect = Rectangle((x, y), w, h, linewidth=1,\n",
    "                         edgecolor='r', facecolor='none')\n",
    "\n",
    "        ax.add_patch(rect)\n",
    "\n",
    "    plt.show()"
   ]
  },
  {
   "cell_type": "code",
   "execution_count": null,
   "metadata": {},
   "outputs": [],
   "source": [
    "with open('./config.json') as config_file:\n",
    "    config = json.load(config_file)"
   ]
  },
  {
   "cell_type": "code",
   "execution_count": null,
   "metadata": {},
   "outputs": [],
   "source": [
    "def predict_image(image_file):\n",
    "    image = get_image_from_file(image_file)\n",
    "    all_labels = yolo.predict(image)\n",
    "    all_labels = np.reshape(all_labels, (9 ** 2, 5))\n",
    "    labels = yolo.predict_boxes(image)\n",
    "    draw_rectangles(image[0], all_labels, False)\n",
    "    draw_rectangles(image[0], labels, True)"
   ]
  },
  {
   "cell_type": "code",
   "execution_count": null,
   "metadata": {},
   "outputs": [],
   "source": [
    "with tf.Session():\n",
    "    yolo = YOLO(config)\n",
    "    yolo.load_model()\n",
    "    image_path = './dataset/cvpr10_multiview_pedestrians/train/03467.png'\n",
    "    predict_image(image_path)"
   ]
  },
  {
   "cell_type": "code",
   "execution_count": null,
   "metadata": {},
   "outputs": [],
   "source": []
  }
 ],
 "metadata": {
  "kernelspec": {
   "display_name": "Python 3",
   "language": "python",
   "name": "python3"
  },
  "language_info": {
   "codemirror_mode": {
    "name": "ipython",
    "version": 3
   },
   "file_extension": ".py",
   "mimetype": "text/x-python",
   "name": "python",
   "nbconvert_exporter": "python",
   "pygments_lexer": "ipython3",
   "version": "3.6.3"
  }
 },
 "nbformat": 4,
 "nbformat_minor": 2
}
