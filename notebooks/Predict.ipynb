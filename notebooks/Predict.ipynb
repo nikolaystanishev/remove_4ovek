{
 "cells": [
  {
   "cell_type": "code",
   "execution_count": null,
   "metadata": {},
   "outputs": [],
   "source": [
    "import json\n",
    "\n",
    "import sys\n",
    "sys.path.append('../')\n",
    "\n",
    "from aovek.network.network import YOLO\n",
    "from aovek.utils.image_processing import ImageProcessing\n",
    "from aovek.visualization.predict import Predict"
   ]
  },
  {
   "cell_type": "code",
   "execution_count": null,
   "metadata": {},
   "outputs": [],
   "source": [
    "with open('../config.json') as config_file:\n",
    "    config = json.load(config_file)\n",
    "    \n",
    "config['network']['model_binary_data_file'] = '../model/60/model.h5'"
   ]
  },
  {
   "cell_type": "code",
   "execution_count": null,
   "metadata": {
    "scrolled": true
   },
   "outputs": [],
   "source": [
    "image_processor = ImageProcessing(config)\n",
    "predict = Predict(config)"
   ]
  },
  {
   "cell_type": "code",
   "execution_count": null,
   "metadata": {},
   "outputs": [],
   "source": [
    "image_path = '../dataset/cvpr10_multiview_pedestrians/train/03467.png'\n",
    "predict.predict_all_boxes(image_path)\n",
    "predict.predict(image_path)\n",
    "\n",
    "image_path = '../dataset/cvpr10_multiview_pedestrians/validate/00147.png'\n",
    "predict.predict_all_boxes(image_path)\n",
    "predict.predict(image_path)\n",
    "\n",
    "image_path = '../dataset/cvpr10_multiview_pedestrians/train/00097.png'\n",
    "predict.predict_all_boxes(image_path)\n",
    "predict.predict(image_path)\n",
    "\n",
    "image_path = '/home/nikolay/Downloads/walking-210520_640.jpg'\n",
    "predict.predict_all_boxes(image_path)\n",
    "predict.predict(image_path)\n",
    "\n",
    "image_path = '/home/nikolay/Downloads/Hari_Salopek.jpg'\n",
    "predict.predict_all_boxes(image_path)\n",
    "predict.predict(image_path)"
   ]
  },
  {
   "cell_type": "code",
   "execution_count": null,
   "metadata": {},
   "outputs": [],
   "source": []
  }
 ],
 "metadata": {
  "kernelspec": {
   "display_name": "Python 3",
   "language": "python",
   "name": "python3"
  },
  "language_info": {
   "codemirror_mode": {
    "name": "ipython",
    "version": 3
   },
   "file_extension": ".py",
   "mimetype": "text/x-python",
   "name": "python",
   "nbconvert_exporter": "python",
   "pygments_lexer": "ipython3",
   "version": "3.6.3"
  }
 },
 "nbformat": 4,
 "nbformat_minor": 2
}
